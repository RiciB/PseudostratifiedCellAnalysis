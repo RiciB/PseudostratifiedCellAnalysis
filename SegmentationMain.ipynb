{
 "cells": [
  {
   "cell_type": "code",
   "execution_count": null,
   "metadata": {
    "scrolled": false
   },
   "outputs": [
    {
     "name": "stdout",
     "output_type": "stream",
     "text": [
      "201106_NubG4-UASmyrGFP_COVERSLIP-FLAT_DISH-1-DISC-1_STACK\n",
      "hi\n",
      "201105_NubG4-UASmyrGFP_COVERSLIP-FLAT_DISH-1-DISC-2_STACK\n",
      "(955, 951)\n",
      "(1045,)\n"
     ]
    },
    {
     "name": "stderr",
     "output_type": "stream",
     "text": [
      "/Users/ricardo/anaconda3/lib/python3.6/site-packages/ipykernel_launcher.py:63: DeprecationWarning: elementwise comparison failed; this will raise an error in the future.\n"
     ]
    },
    {
     "name": "stdout",
     "output_type": "stream",
     "text": [
      "(1305, 1299, 1190)\n",
      "(1186,)\n",
      "(1469,)\n",
      "(1250, 1316)\n",
      "(959,)\n",
      "(970,)\n",
      "(896, 837)\n",
      "(762, 748)\n",
      "(1511,)\n",
      "(1165,)\n",
      "(484, 500)\n",
      "(1715,)\n",
      "(1447, 1367)\n",
      "(1126, 1039)\n",
      "(832, 860)\n",
      "(1295,)\n",
      "(800, 854)\n",
      "(976, 1043)\n",
      "(1654,)\n",
      "(785, 796)\n",
      "(954, 893)\n",
      "(1155,)\n",
      "(1169, 1206)\n",
      "(1369, 1359)\n",
      "(1682,)\n",
      "(761,)\n",
      "(442,)\n",
      "(1441,)\n",
      "(1122,)\n",
      "(637,)\n",
      "(765,)\n",
      "(1315,)\n",
      "(1598,)\n",
      "(1010, 910)\n",
      "(1129, 996, 1143)\n",
      "(1023,)\n",
      "(1290,)\n",
      "(1189,)\n",
      "(1382,)\n",
      "(818,)\n",
      "(1101,)\n",
      "(1103,)\n",
      "(992, 1013)\n",
      "(1015, 1055)\n",
      "(1345,)\n",
      "(552,)\n",
      "(617,)\n",
      "(1257,)\n",
      "(1029, 982)\n",
      "(594,)\n",
      "(877,)\n",
      "(1070,)\n"
     ]
    }
   ],
   "source": [
    "import os\n",
    "import h5py\n",
    "import numpy as np\n",
    "import matplotlib.pyplot as plt\n",
    "from skimage import io, measure, morphology, segmentation, transform, filters\n",
    "\n",
    "chosen_cells = {}\n",
    "\n",
    "raw_folder = '/Users/ricardo/Documents/Temporary/Segmentations/';\n",
    "\n",
    "for file_name in os.listdir(raw_folder + 'Images/'):\n",
    "        \n",
    "    stack_ID = file_name.rstrip('.tif');\n",
    "    print(stack_ID)\n",
    "    chosen_cells[stack_ID] = set()\n",
    "    \n",
    "    file_path = raw_folder + 'Cells/' + stack_ID + '_GOOD-CELLS.txt'\n",
    "    \n",
    "    if not os.path.exists(file_path):\n",
    "        print('hi')\n",
    "        continue\n",
    "    \n",
    "    with open(file_path, 'r') as file:\n",
    "        \n",
    "        for cell in file:\n",
    "            \n",
    "            cell = (int(cell),)\n",
    "            \n",
    "            chosen_cells[stack_ID].add(cell)\n",
    "     \n",
    "    file_path = raw_folder + 'Cells/' + stack_ID + '_SPLIT-CELLS.txt'\n",
    "    \n",
    "    if not os.path.exists(file_path):\n",
    "        print('hi')\n",
    "        continue\n",
    "    \n",
    "    with open(file_path, 'r') as file:\n",
    "        \n",
    "        for cells in file:\n",
    "            \n",
    "            cells = tuple([int(cell) for cell in cells.split()])\n",
    "            \n",
    "            chosen_cells[stack_ID].add(cells)\n",
    "\n",
    "\n",
    "\n",
    "    raw_img = io.imread(raw_folder + 'Images/' + file_name);\n",
    "\n",
    "    seg_file = h5py.File(raw_folder + 'Segmentations/' + stack_ID + '_predictions_gasp_average.h5', 'r')\n",
    "    seg_data = seg_file['/segmentation'][()]\n",
    "\n",
    "\n",
    "    try:\n",
    "        good_seg_data = np.zeros_like(seg_data);\n",
    "    except Exception as e:\n",
    "        seg_data = np.array(segmentedImgh5.get('segmentation'));\n",
    "        good_seg_data = np.zeros_like(seg_data);\n",
    "    \n",
    "\n",
    "    for cell in chosen_cells:\n",
    "        for num_cell in chosen_cells[cell]:\n",
    "            print(num_cell)\n",
    "            good_seg_data[seg_data == num_cell] = num_cell[0]\n",
    "\n",
    "\n",
    "    propertyTable = ('area', 'bbox', 'bbox_area', 'centroid', 'convex_area', 'convex_image', 'coords', 'eccentricity')\n",
    "\n",
    "    intensityProps = ('label', 'mean_intensity', 'weighted_centroid')\n",
    "\n",
    "    shapeProps = ('label', 'area', 'convex_area', 'equivalent_diameter', \n",
    "                  'extent', 'feret_diameter_max', 'filled_area', 'major_axis_length', \n",
    "                  'minor_axis_length', 'solidity')\n",
    "\n",
    "    #'eccentricity', 'perimeter' and 'perimeter_crofton' is not implemented for 3D images\n",
    "\n",
    "    props = measure.regionprops_table(good_seg_data, intensity_image=raw_img, properties=propertyTable)\n",
    "\n",
    "    np.savetxt(raw_folder + stack_ID + '_cell-analysis.csv', props, delimiter=\", \", fmt=\"% s\")"
   ]
  },
  {
   "cell_type": "code",
   "execution_count": 2,
   "metadata": {},
   "outputs": [
    {
     "data": {
      "text/plain": [
       "'0.17.2'"
      ]
     },
     "execution_count": 2,
     "metadata": {},
     "output_type": "execute_result"
    }
   ],
   "source": [
    "skimage.__version__"
   ]
  },
  {
   "cell_type": "code",
   "execution_count": 1,
   "metadata": {},
   "outputs": [],
   "source": [
    "import skimage"
   ]
  },
  {
   "cell_type": "code",
   "execution_count": 16,
   "metadata": {},
   "outputs": [
    {
     "name": "stdout",
     "output_type": "stream",
     "text": [
      "Collecting scikit-image\n",
      "\u001b[?25l  Downloading https://files.pythonhosted.org/packages/17/1f/bea69a3a5d7efb0e22993d08c4328678e5f6a513cad55247142be8473142/scikit_image-0.17.2-cp36-cp36m-macosx_10_13_x86_64.whl (12.1MB)\n",
      "\u001b[K    100% |████████████████████████████████| 12.1MB 2.7MB/s eta 0:00:01   14% |████▌                           | 1.7MB 62.7MB/s eta 0:00:01\n",
      "\u001b[?25hRequirement already satisfied, skipping upgrade: pillow!=7.1.0,!=7.1.1,>=4.3.0 in /Users/ricardo/anaconda3/lib/python3.6/site-packages (from scikit-image) (5.4.1)\n",
      "Requirement already satisfied, skipping upgrade: matplotlib!=3.0.0,>=2.0.0 in /Users/ricardo/anaconda3/lib/python3.6/site-packages (from scikit-image) (3.2.2)\n",
      "Requirement already satisfied, skipping upgrade: numpy>=1.15.1 in /Users/ricardo/anaconda3/lib/python3.6/site-packages (from scikit-image) (1.18.1)\n",
      "Requirement already satisfied, skipping upgrade: tifffile>=2019.7.26 in /Users/ricardo/anaconda3/lib/python3.6/site-packages (from scikit-image) (2020.9.3)\n",
      "Requirement already satisfied, skipping upgrade: networkx>=2.0 in /Users/ricardo/anaconda3/lib/python3.6/site-packages (from scikit-image) (2.2)\n",
      "Requirement already satisfied, skipping upgrade: imageio>=2.3.0 in /Users/ricardo/anaconda3/lib/python3.6/site-packages (from scikit-image) (2.5.0)\n",
      "Collecting PyWavelets>=1.1.1 (from scikit-image)\n",
      "\u001b[?25l  Downloading https://files.pythonhosted.org/packages/28/cd/0d96e765d793ae0e2fa291250ab98c27c0c574b0044c5a6ec3f6ae2afa91/PyWavelets-1.1.1-cp36-cp36m-macosx_10_9_x86_64.whl (4.3MB)\n",
      "\u001b[K    100% |████████████████████████████████| 4.3MB 7.8MB/s eta 0:00:01\n",
      "\u001b[?25hRequirement already satisfied, skipping upgrade: scipy>=1.0.1 in /Users/ricardo/anaconda3/lib/python3.6/site-packages (from scikit-image) (1.4.1)\n",
      "Requirement already satisfied, skipping upgrade: pyparsing!=2.0.4,!=2.1.2,!=2.1.6,>=2.0.1 in /Users/ricardo/anaconda3/lib/python3.6/site-packages (from matplotlib!=3.0.0,>=2.0.0->scikit-image) (2.3.1)\n",
      "Requirement already satisfied, skipping upgrade: cycler>=0.10 in /Users/ricardo/anaconda3/lib/python3.6/site-packages (from matplotlib!=3.0.0,>=2.0.0->scikit-image) (0.10.0)\n",
      "Requirement already satisfied, skipping upgrade: python-dateutil>=2.1 in /Users/ricardo/anaconda3/lib/python3.6/site-packages (from matplotlib!=3.0.0,>=2.0.0->scikit-image) (2.8.0)\n",
      "Requirement already satisfied, skipping upgrade: kiwisolver>=1.0.1 in /Users/ricardo/anaconda3/lib/python3.6/site-packages (from matplotlib!=3.0.0,>=2.0.0->scikit-image) (1.0.1)\n",
      "Requirement already satisfied, skipping upgrade: decorator>=4.3.0 in /Users/ricardo/anaconda3/lib/python3.6/site-packages (from networkx>=2.0->scikit-image) (4.4.0)\n",
      "Requirement already satisfied, skipping upgrade: six in /Users/ricardo/anaconda3/lib/python3.6/site-packages (from cycler>=0.10->matplotlib!=3.0.0,>=2.0.0->scikit-image) (1.12.0)\n",
      "Requirement already satisfied, skipping upgrade: setuptools in /Users/ricardo/anaconda3/lib/python3.6/site-packages (from kiwisolver>=1.0.1->matplotlib!=3.0.0,>=2.0.0->scikit-image) (40.8.0)\n",
      "Installing collected packages: PyWavelets, scikit-image\n",
      "  Found existing installation: PyWavelets 1.0.2\n",
      "    Uninstalling PyWavelets-1.0.2:\n",
      "      Successfully uninstalled PyWavelets-1.0.2\n",
      "  Found existing installation: scikit-image 0.14.2\n",
      "    Uninstalling scikit-image-0.14.2:\n",
      "      Successfully uninstalled scikit-image-0.14.2\n",
      "Successfully installed PyWavelets-1.1.1 scikit-image-0.17.2\n",
      "Note: you may need to restart the kernel to use updated packages.\n"
     ]
    }
   ],
   "source": [
    "pip install --upgrade scikit-image"
   ]
  },
  {
   "cell_type": "code",
   "execution_count": null,
   "metadata": {},
   "outputs": [],
   "source": []
  }
 ],
 "metadata": {
  "kernelspec": {
   "display_name": "Python 3",
   "language": "python",
   "name": "python3"
  },
  "language_info": {
   "codemirror_mode": {
    "name": "ipython",
    "version": 3
   },
   "file_extension": ".py",
   "mimetype": "text/x-python",
   "name": "python",
   "nbconvert_exporter": "python",
   "pygments_lexer": "ipython3",
   "version": "3.6.8"
  }
 },
 "nbformat": 4,
 "nbformat_minor": 2
}
